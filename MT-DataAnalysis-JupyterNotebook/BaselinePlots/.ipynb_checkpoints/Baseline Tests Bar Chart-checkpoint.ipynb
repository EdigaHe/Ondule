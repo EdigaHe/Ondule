{
 "cells": [
  {
   "cell_type": "code",
   "execution_count": 2,
   "metadata": {},
   "outputs": [],
   "source": [
    "import matplotlib\n",
    "import matplotlib.pyplot as plt\n",
    "import numpy as np\n",
    "import seaborn as sns # seaborn is a statistical data visualization library\n",
    "import pandas as pd # pandas is the data analysis and visualization library\n",
    "import statsmodels.api as sm\n",
    "import math\n",
    "from IPython.display import display, HTML\n",
    "%matplotlib inline"
   ]
  },
  {
   "cell_type": "code",
   "execution_count": 3,
   "metadata": {},
   "outputs": [],
   "source": [
    "##### FUNCTIONS #####\n",
    "def findYoungs(origLeng, slopeToE, xSectArea):\n",
    "    return (origLeng / xSectArea) * slopeToE;\n",
    "\n",
    "def findXSectArea(wireDiameter):\n",
    "    return math.pi * math.pow(wireDiameter / 2, 2);\n",
    "\n",
    "def youngsToRigidMod(youngsMod, poissonsRat):\n",
    "    return youngsMod / (2 * (1 + poissonsRat));"
   ]
  },
  {
   "cell_type": "code",
   "execution_count": 34,
   "metadata": {},
   "outputs": [],
   "source": [
    "##### GLOBAL VARIABLES #####\n",
    "dataDirectoryList = [\"BaselineTests/0_Degree/\", \"BaselineTests/30_Degree/\", \"BaselineTests/45_Degree/\", \"BaselineTests/60_Degree/\", \"BaselineTests/90_Degree/\"] # directory where data is stored\n",
    "fileListNames = [\"files0.txt\", \"files1.txt\", \"files2.txt\", \"files3.txt\", \"files4.txt\"]\n",
    "headerLines = 13\n",
    "zeroIndexed = True\n",
    "baselineOrigLeng = 54\n",
    "wireDiameter = 4.1\n",
    "angleCopiesDF = pd.DataFrame([[4, 2, 2, 2, 1], [3, 2, 2, 1, 3], [2, 1, 1, 0, 2], [4, 1, 1, 2, 5], [3, 0, 2, 1, 2]])\n",
    "\n",
    "!dir BaselineTests\\0_Degree /B > files0.txt\n",
    "!dir BaselineTests\\30_Degree /B > files1.txt\n",
    "!dir BaselineTests\\45_Degree /B > files2.txt\n",
    "!dir BaselineTests\\60_Degree /B > files3.txt\n",
    "!dir BaselineTests\\90_Degree /B > files4.txt\n",
    "\n",
    "# decide variables (make sure they are COLUMN HEADERS IN THE FOLLOWING DATAFRAME)\n",
    "independentVar = \"Extension\" \n",
    "dependentVar = \"Load\"\n",
    "\n",
    "infills = [\"20%\", \"40%\", \"60%\", \"80%\", \"100%\"]\n",
    "angles = [\"0 Degrees\", \"30 Degrees\", \"45 Degrees\", \"60 Degrees\", \"90 Degrees\"]\n",
    "angleVals = [0, 30, 45, 60, 90]\n",
    "markers = [\"x\", \"o\", \"+\", \"^\", \"s\"]"
   ]
  },
  {
   "cell_type": "code",
   "execution_count": 35,
   "metadata": {},
   "outputs": [
    {
     "data": {
      "text/plain": [
       "<matplotlib.legend.Legend at 0x1e233792c50>"
      ]
     },
     "execution_count": 35,
     "metadata": {},
     "output_type": "execute_result"
    },
    {
     "data": {
      "image/png": "[encoded data removed]",
      "text/plain": [
       "<Figure size 432x288 with 1 Axes>"
      ]
     },
     "metadata": {},
     "output_type": "display_data"
    }
   ],
   "source": [
    "# fig, axes = plt.subplots(nrows=len(dataDirectoryList), ncols=1, figsize=(5, 20))\n",
    "# fig.tight_layout(h_pad=10)\n",
    "\n",
    "avgEListTable = []\n",
    "\n",
    "for testGroup in range(len(dataDirectoryList)):\n",
    "    # parse and read through all files\n",
    "    fileList = pd.read_csv(fileListNames[testGroup], sep=\"\\n\", header=None, squeeze=True);\n",
    "    fileList.tolist() # we don't need the extensive capabilities of a Series\n",
    "    dataList = []\n",
    "    for filename in fileList:\n",
    "        dataList.append(pd.read_csv(dataDirectoryList[testGroup] + filename, names=[\"Time\", \"Extension\", \"Load\", \"Tensile Stress\", \"Axial Strain\"], skiprows=headerLines))\n",
    "\n",
    "    # find the position of the elastic modulus\n",
    "    EInfoList = []\n",
    "    for dataset in dataList:\n",
    "        currIndex = 0\n",
    "        currLoad = dataset.at[currIndex, dependentVar]\n",
    "        nextLoad = dataset.at[currIndex + 1, dependentVar]\n",
    "\n",
    "        # find the location of E\n",
    "        while (currLoad < nextLoad):\n",
    "            currIndex += 1\n",
    "            currLoad = dataset.at[currIndex, dependentVar]\n",
    "            nextLoad = dataset.at[currIndex + 1, dependentVar]\n",
    "\n",
    "        # load the information into a dictionary\n",
    "        EInfoList.append(dict(maxLoad=currLoad, maxIndex=currIndex, csvIndex=currIndex + headerLines + zeroIndexed))\n",
    "    EInfoDF = pd.DataFrame(EInfoList) # put the gathered information into a DataFrame\n",
    "\n",
    "    # plot data and find the linear approximation to the elastic modulus\n",
    "    regLineInfoList = []\n",
    "    for i in range(len(dataList)): \n",
    "        independentCol = dataList[i].loc[0:EInfoDF.at[i, \"maxIndex\"], independentVar]\n",
    "        dependentCol = dataList[i].loc[0:EInfoDF.at[i, \"maxIndex\"], dependentVar]\n",
    "        regModel = sm.OLS(dependentCol, sm.add_constant(independentCol))\n",
    "        regLineInfo = regModel.fit().params\n",
    "        regLineInfoList.append(dict(intercept=regLineInfo[0], slope=regLineInfo[1]))\n",
    "    regLineInfoDF = pd.DataFrame(regLineInfoList) # put the gathered information into a DataFrame for easy access\n",
    "    EInfoDF.loc[:, \"intercept\"] = regLineInfoDF.loc[:, \"intercept\"] # add \"intercept\" column to previous DataFrame\n",
    "    EInfoDF.loc[:, \"slope\"] = regLineInfoDF.loc[:, \"slope\"] # add \"slope\" column to previous DataFrame\n",
    "\n",
    "    # find E\n",
    "    EList = []\n",
    "    for test in EInfoDF.index:\n",
    "        EList.append(findYoungs(baselineOrigLeng, EInfoDF.at[test, \"slope\"], findXSectArea(wireDiameter)))\n",
    "    EInfoDF.loc[:, \"elasticMod\"] = EList # add \"E\" column to previous DataFrame\n",
    "\n",
    "    # average repeated tests and plot\n",
    "    avgEList = []\n",
    "    initDex = 0;\n",
    "    for i in range(len(angleCopiesDF[testGroup])):\n",
    "        averageNum = 0;\n",
    "        copyCount = angleCopiesDF.at[testGroup, i]\n",
    "        if(copyCount != 0):\n",
    "            for j in range(copyCount):\n",
    "                averageNum += EInfoDF.at[initDex + j, \"elasticMod\"]\n",
    "            avgEList.append(averageNum / copyCount)\n",
    "        else:\n",
    "            avgEList.append(0)\n",
    "        initDex += copyCount\n",
    "    avgEListSeries = pd.Series(avgEList, index=infills)\n",
    "#     avgEListSeries.plot(title=angles[testGroup], use_index=True, kind=\"bar\", ax=axes[testGroup]).set_xlabel(\"Infill Density\")\n",
    "    avgEListTable.append(avgEList)\n",
    "avgEDF = pd.DataFrame(avgEListTable, index=angles, columns=infills)\n",
    "\n",
    "tempAvgEDF = avgEDF.replace(0, \"NaN\")\n",
    "markerIndex = 0\n",
    "for infill in tempAvgEDF.columns:\n",
    "    plt.scatter(x=angleVals, y=tempAvgEDF.loc[:, infill].values, marker=markers[markerIndex], label=infill)\n",
    "    markerIndex += 1\n",
    "plt.title(\"Baseline Elastic Modulus\")\n",
    "plt.xlabel(\"Print Angle\")\n",
    "plt.ylabel(\"Young's Modulus\")\n",
    "plt.xticks(angleVals)\n",
    "plt.legend(title=\"Infill\", shadow=True)"
   ]
  },
  {
   "cell_type": "code",
   "execution_count": 36,
   "metadata": {},
   "outputs": [
    {
     "data": {
      "text/html": [
       "<table border=\"1\" class=\"dataframe\">\n",
       "  <thead>\n",
       "    <tr style=\"text-align: right;\">\n",
       "      <th></th>\n",
       "      <th>20%</th>\n",
       "      <th>40%</th>\n",
       "      <th>60%</th>\n",
       "      <th>80%</th>\n",
       "      <th>100%</th>\n",
       "      <th>Average</th>\n",
       "    </tr>\n",
       "  </thead>\n",
       "  <tbody>\n",
       "    <tr>\n",
       "      <th>0 Degrees</th>\n",
       "      <td>2259.178355</td>\n",
       "      <td>2222.356281</td>\n",
       "      <td>2444.251209</td>\n",
       "      <td>2787.064307</td>\n",
       "      <td>2649.540687</td>\n",
       "      <td>2472.478168</td>\n",
       "    </tr>\n",
       "    <tr>\n",
       "      <th>30 Degrees</th>\n",
       "      <td>1569.842090</td>\n",
       "      <td>2060.650021</td>\n",
       "      <td>2270.421363</td>\n",
       "      <td>2411.042445</td>\n",
       "      <td>2645.813360</td>\n",
       "      <td>2191.553856</td>\n",
       "    </tr>\n",
       "    <tr>\n",
       "      <th>45 Degrees</th>\n",
       "      <td>1439.771228</td>\n",
       "      <td>1837.819034</td>\n",
       "      <td>1852.762305</td>\n",
       "      <td>0.000000</td>\n",
       "      <td>2345.184726</td>\n",
       "      <td>1495.107459</td>\n",
       "    </tr>\n",
       "    <tr>\n",
       "      <th>60 Degrees</th>\n",
       "      <td>1819.295742</td>\n",
       "      <td>1776.382456</td>\n",
       "      <td>2313.272380</td>\n",
       "      <td>1805.621961</td>\n",
       "      <td>2312.413009</td>\n",
       "      <td>2005.397109</td>\n",
       "    </tr>\n",
       "    <tr>\n",
       "      <th>90 Degrees</th>\n",
       "      <td>2393.495738</td>\n",
       "      <td>0.000000</td>\n",
       "      <td>2678.302593</td>\n",
       "      <td>2736.002841</td>\n",
       "      <td>2379.595634</td>\n",
       "      <td>2037.479361</td>\n",
       "    </tr>\n",
       "    <tr>\n",
       "      <th>Average</th>\n",
       "      <td>1896.316631</td>\n",
       "      <td>1579.441558</td>\n",
       "      <td>2311.801970</td>\n",
       "      <td>1947.946311</td>\n",
       "      <td>2466.509483</td>\n",
       "      <td>2040.403191</td>\n",
       "    </tr>\n",
       "  </tbody>\n",
       "</table>"
      ],
      "text/plain": [
       "<IPython.core.display.HTML object>"
      ]
     },
     "metadata": {},
     "output_type": "display_data"
    }
   ],
   "source": [
    "avgEDF[\"Average\"] = avgEDF.mean(axis=1)\n",
    "avgEDF.loc[\"Average\", :] = avgEDF.mean(axis=0)\n",
    "display(HTML(avgEDF.to_html()))"
   ]
  },
  {
   "cell_type": "code",
   "execution_count": 17,
   "metadata": {},
   "outputs": [],
   "source": [
    "# clean up\n",
    "!del files*"
   ]
  }
 ],
 "metadata": {
  "kernelspec": {
   "display_name": "Python 3",
   "language": "python",
   "name": "python3"
  },
  "language_info": {
   "codemirror_mode": {
    "name": "ipython",
    "version": 3
   },
   "file_extension": ".py",
   "mimetype": "text/x-python",
   "name": "python",
   "nbconvert_exporter": "python",
   "pygments_lexer": "ipython3",
   "version": "3.6.5"
  }
 },
 "nbformat": 4,
 "nbformat_minor": 2
}

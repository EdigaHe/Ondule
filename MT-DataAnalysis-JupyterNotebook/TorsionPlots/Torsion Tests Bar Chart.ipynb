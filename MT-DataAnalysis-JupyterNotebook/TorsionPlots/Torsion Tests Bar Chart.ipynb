{
 "cells": [
  {
   "cell_type": "code",
   "execution_count": 20,
   "metadata": {},
   "outputs": [],
   "source": [
    "import matplotlib\n",
    "import matplotlib.pyplot as plt\n",
    "import numpy as np\n",
    "import seaborn as sns # seaborn is a statistical data visualization library\n",
    "import pandas as pd # pandas is the data analysis and visualization library\n",
    "import statsmodels.api as sm\n",
    "import math\n",
    "from IPython.display import display, HTML\n",
    "%matplotlib inline"
   ]
  },
  {
   "cell_type": "code",
   "execution_count": 21,
   "metadata": {},
   "outputs": [],
   "source": [
    "sParams = [\"Coil Diameter\", \"Wire Diameter\", \"Turn Number\", \"Spring Length\"] "
   ]
  },
  {
   "cell_type": "code",
   "execution_count": 22,
   "metadata": {},
   "outputs": [
    {
     "data": {
      "image/png": "[encoded data removed]",
      "text/plain": [
       "<Figure size 720x504 with 4 Axes>"
      ]
     },
     "metadata": {},
     "output_type": "display_data"
    }
   ],
   "source": [
    "# axes for bar plots\n",
    "fig, axes = plt.subplots(nrows=2, ncols=2, figsize=(10, 7))\n",
    "fig.tight_layout(w_pad=5, h_pad=5)\n",
    "\n",
    "torsionThetaTorque = pd.read_excel(\"TorsionTestAnalysis.xlsx\", sheet_name=\"Summary\", skiprows=1, names=sParams, usecols=[5, 6, 7, 8], skipfooter=5)\n",
    "for col in range(torsionThetaTorque.shape[1]):\n",
    "    torsionThetaTorque.iloc[:, col].plot(title=torsionThetaTorque.columns[col], kind=\"bar\", ax=axes[int(col / 2), col % 2])\n",
    "    axes[int(col / 2), col % 2].set_xlabel(torsionThetaTorque.columns[col] + \" Values\")\n",
    "    axes[int(col / 2), col % 2].set_ylabel(\"Theta/Torque\")\n",
    "#     axes[int(col / 2), col % 2].set_xticklabels(EInfoDF.loc[:, \"attributeName\"], rotation=\"45\", ha=\"right\")"
   ]
  },
  {
   "cell_type": "code",
   "execution_count": 26,
   "metadata": {},
   "outputs": [
    {
     "data": {
      "text/html": [
       "<table border=\"1\" class=\"dataframe\">\n",
       "  <thead>\n",
       "    <tr style=\"text-align: right;\">\n",
       "      <th></th>\n",
       "      <th>Coil Diameter</th>\n",
       "      <th>Wire Diameter</th>\n",
       "      <th>Turn Number</th>\n",
       "      <th>Spring Length</th>\n",
       "    </tr>\n",
       "  </thead>\n",
       "  <tbody>\n",
       "    <tr>\n",
       "      <th>0</th>\n",
       "      <td>13.215834</td>\n",
       "      <td>20.081203</td>\n",
       "      <td>7.461283</td>\n",
       "      <td>15.193714</td>\n",
       "    </tr>\n",
       "    <tr>\n",
       "      <th>1</th>\n",
       "      <td>16.123313</td>\n",
       "      <td>4.615053</td>\n",
       "      <td>10.815865</td>\n",
       "      <td>15.103811</td>\n",
       "    </tr>\n",
       "    <tr>\n",
       "      <th>2</th>\n",
       "      <td>26.431669</td>\n",
       "      <td>1.873564</td>\n",
       "      <td>16.532021</td>\n",
       "      <td>16.360426</td>\n",
       "    </tr>\n",
       "    <tr>\n",
       "      <th>3</th>\n",
       "      <td>39.624757</td>\n",
       "      <td>1.090831</td>\n",
       "      <td>21.816616</td>\n",
       "      <td>13.744468</td>\n",
       "    </tr>\n",
       "    <tr>\n",
       "      <th>Average</th>\n",
       "      <td>23.848893</td>\n",
       "      <td>6.915163</td>\n",
       "      <td>14.156446</td>\n",
       "      <td>15.100605</td>\n",
       "    </tr>\n",
       "    <tr>\n",
       "      <th>Standard Deviation</th>\n",
       "      <td>10.347646</td>\n",
       "      <td>7.713230</td>\n",
       "      <td>5.484210</td>\n",
       "      <td>0.926679</td>\n",
       "    </tr>\n",
       "  </tbody>\n",
       "</table>"
      ],
      "text/plain": [
       "<IPython.core.display.HTML object>"
      ]
     },
     "metadata": {},
     "output_type": "display_data"
    }
   ],
   "source": [
    "# print table of E values and averages of rows and columns\n",
    "torsionThetaTorque.loc[\"Average\"] = torsionThetaTorque.mean(numeric_only=True, axis=0).tolist() # add column average row\n",
    "torsionThetaTorque.loc[\"Standard Deviation\"] = torsionThetaTorque.std(numeric_only=True, axis=0).tolist() # add column average row\n",
    "display(HTML(torsionThetaTorque.to_html()))"
   ]
  }
 ],
 "metadata": {
  "kernelspec": {
   "display_name": "Python 3",
   "language": "python",
   "name": "python3"
  },
  "language_info": {
   "codemirror_mode": {
    "name": "ipython",
    "version": 3
   },
   "file_extension": ".py",
   "mimetype": "text/x-python",
   "name": "python",
   "nbconvert_exporter": "python",
   "pygments_lexer": "ipython3",
   "version": "3.6.5"
  }
 },
 "nbformat": 4,
 "nbformat_minor": 2
}
